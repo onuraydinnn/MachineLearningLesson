{
 "cells": [
  {
   "cell_type": "code",
   "execution_count": 81,
   "id": "4f5f8c1d",
   "metadata": {},
   "outputs": [
    {
     "name": "stdout",
     "output_type": "stream",
     "text": [
      "30 / 20  :  1.5\n",
      "[30, 20, 'cumartesi', 'merhaba', 1.67, 'kalem']\n",
      "<class 'list'> <class 'str'> <class 'int'>\n",
      "kalem\n",
      "[30, 20, 'cumartesi']\n"
     ]
    },
    {
     "data": {
      "text/plain": [
       "12.56"
      ]
     },
     "execution_count": 81,
     "metadata": {},
     "output_type": "execute_result"
    }
   ],
   "source": [
    "var1 = 30\n",
    "var2 = 20\n",
    "bolme = var1/var2\n",
    "\n",
    "print(var1,\"/\",var2,\" : \",bolme)\n",
    "gun = \"cumartesi\"\n",
    "\n",
    "\n",
    "list = [var1, var2, gun,\"merhaba\",1.67,\"kalem\"] #list\n",
    "print(list)\n",
    "\n",
    "print(type(list),type(gun),type(var1)) #veri tipini öğrenmek için type()\n",
    "\n",
    "value = list[-1] #listenin sonundaki eleman\n",
    "print(value)\n",
    "\n",
    "print(list[0:3]) #list[(başlangıç değer):(bitiş değer)] aradaki elemanlar yazdırılır, bitiş değer dahil değildir\n"
   ]
  },
  {
   "cell_type": "code",
   "execution_count": 80,
   "id": "f3e1f04f",
   "metadata": {},
   "outputs": [
    {
     "name": "stdout",
     "output_type": "stream",
     "text": [
      "Help on built-in function reverse:\n",
      "\n",
      "reverse() method of builtins.list instance\n",
      "    Reverse *IN PLACE*.\n",
      "\n"
     ]
    }
   ],
   "source": [
    "dir(list) #list ile kullanılabilir fonksiyonlar \n",
    "help(list.reverse) #append fonksiyonunun açıklamasını yapar\n",
    "\n",
    "list.append(15) #listeye 15 elemanını ekler\n",
    "list.remove(15) #15 elemanını listeden siler\n",
    "list.reverse() #ters çevirir\n"
   ]
  },
  {
   "cell_type": "code",
   "execution_count": 79,
   "id": "f8270a2a",
   "metadata": {},
   "outputs": [
    {
     "name": "stdout",
     "output_type": "stream",
     "text": [
      "1\n",
      "2\n",
      "3\n",
      "4\n",
      "5\n",
      "6\n",
      "7\n",
      "8\n",
      "9\n",
      "10\n",
      "i\n",
      "s\n",
      "t\n",
      "a\n",
      "n\n",
      "b\n",
      "u\n",
      "l\n",
      "45\n",
      "1\n"
     ]
    }
   ],
   "source": [
    "for each in range (1,11): #1 -> inclusive, 11 -> exclusive\n",
    "    print(each)\n",
    "for each in \"istanbul\":\n",
    "    print(each)\n",
    "\n",
    "list_numbers=[1,2,3,4,5,6,7,8,9]\n",
    "print(sum(list_numbers)) #liste içindeki sayıların toplamı\n",
    "print(min(list_numbers))"
   ]
  },
  {
   "cell_type": "code",
   "execution_count": 78,
   "id": "44f82e31",
   "metadata": {},
   "outputs": [
    {
     "name": "stdout",
     "output_type": "stream",
     "text": [
      "30 büyüktür\n",
      "2  listede\n"
     ]
    }
   ],
   "source": [
    "if (var1>var2):\n",
    "    print(var1,\"büyüktür\")\n",
    "elif (var1==var2):\n",
    "    print(var1,\"ve\",var2,\"eşittir\")\n",
    "else:\n",
    "    print(var2,\"büyüktür\")\n",
    "\n",
    "a=[1,2,3]\n",
    "b=2\n",
    "if b in a:\n",
    "    print(\"{}  listede\".format(b))"
   ]
  },
  {
   "cell_type": "code",
   "execution_count": 77,
   "id": "bd4ecf2a",
   "metadata": {},
   "outputs": [
    {
     "name": "stdout",
     "output_type": "stream",
     "text": [
      "0\n",
      "1\n",
      "2\n",
      "3\n",
      "4\n"
     ]
    }
   ],
   "source": [
    "i=0\n",
    "while (i<5):\n",
    "    print(i)\n",
    "    i+=1"
   ]
  },
  {
   "cell_type": "code",
   "execution_count": 82,
   "id": "a1142044",
   "metadata": {},
   "outputs": [
    {
     "data": {
      "text/plain": [
       "12.56"
      ]
     },
     "execution_count": 82,
     "metadata": {},
     "output_type": "execute_result"
    }
   ],
   "source": [
    "def cember_cevre(r,pi=3.14): #burada pi sayısının değeri değişmeyeceği için default değer atandı \n",
    "    \n",
    "    \"\"\"\n",
    "    cember_cevre\n",
    "    parametre:r,pi\n",
    "    output:çemberin çevresi\n",
    "    \"\"\"\n",
    "    output = 2*pi*r\n",
    "    return output\n",
    "\n",
    "cember_cevre(2) #pi sayısı default olarak tanımlandığından fonksiyonda yeni değer yazılmaz"
   ]
  },
  {
   "cell_type": "code",
   "execution_count": 84,
   "id": "579f8440",
   "metadata": {},
   "outputs": [
    {
     "name": "stdout",
     "output_type": "stream",
     "text": [
      "9\n",
      "9\n"
     ]
    }
   ],
   "source": [
    "def hesap(x):\n",
    "    ret=x*x\n",
    "    return ret\n",
    "sonuc = hesap(3)\n",
    "sonuc2 = lambda x: x*x\n",
    "print(sonuc2(3))\n",
    "y=3\n",
    "z=lambda x:x*y\n",
    "print(z(3))"
   ]
  },
  {
   "cell_type": "code",
   "execution_count": 92,
   "id": "54bdaee7",
   "metadata": {},
   "outputs": [
    {
     "name": "stdout",
     "output_type": "stream",
     "text": [
      "16\n"
     ]
    }
   ],
   "source": [
    "dictionary = {\"ahmet\":22, \"mehmet\":16, \"gökhan\":23}\n",
    "type(dictionary) #dict\n",
    "dictionary.keys(),dictionary.values()\n",
    "\n",
    "def deneme():\n",
    "    dictionary = {\"ahmet\":22, \"mehmet\":16, \"gökhan\":23}\n",
    "    return dictionary\n",
    "dic = deneme()\n",
    "print(dic['mehmet'])\n",
    "\n"
   ]
  }
 ],
 "metadata": {
  "kernelspec": {
   "display_name": "Python 3 (ipykernel)",
   "language": "python",
   "name": "python3"
  },
  "language_info": {
   "codemirror_mode": {
    "name": "ipython",
    "version": 3
   },
   "file_extension": ".py",
   "mimetype": "text/x-python",
   "name": "python",
   "nbconvert_exporter": "python",
   "pygments_lexer": "ipython3",
   "version": "3.9.13"
  }
 },
 "nbformat": 4,
 "nbformat_minor": 5
}
